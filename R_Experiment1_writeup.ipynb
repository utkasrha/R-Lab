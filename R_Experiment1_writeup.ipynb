{
  "nbformat": 4,
  "nbformat_minor": 0,
  "metadata": {
    "colab": {
      "name": "Copy of R_Experiment1_writeup.ipynb",
      "provenance": [],
      "collapsed_sections": [],
      "include_colab_link": true
    },
    "kernelspec": {
      "name": "ir",
      "display_name": "R"
    }
  },
  "cells": [
    {
      "cell_type": "markdown",
      "metadata": {
        "id": "view-in-github",
        "colab_type": "text"
      },
      "source": [
        "<a href=\"https://colab.research.google.com/github/utkasrha/R-Lab/blob/main/R_Experiment1_writeup.ipynb\" target=\"_parent\"><img src=\"https://colab.research.google.com/assets/colab-badge.svg\" alt=\"Open In Colab\"/></a>"
      ]
    },
    {
      "cell_type": "markdown",
      "metadata": {
        "id": "ID8ytqkhyQUI"
      },
      "source": [
        "**Basics of R Programming**\n",
        "\n",
        "Let us learn basic building blocks of the R programming language.\n",
        "\n",
        "In most comman way R can be though as an interactive calculator.\n",
        "\n",
        "Try executing following code block\n"
      ]
    },
    {
      "cell_type": "markdown",
      "metadata": {
        "id": "gZhlCfnDBJIG"
      },
      "source": [
        ""
      ]
    },
    {
      "cell_type": "code",
      "metadata": {
        "colab": {
          "base_uri": "https://localhost:8080/",
          "height": 35
        },
        "id": "laFgRgayS6Yq",
        "outputId": "7efc7370-48f6-408e-ff61-20b5b6dfdf90"
      },
      "source": [
        "#Code cell\n",
        "5*7"
      ],
      "execution_count": 19,
      "outputs": [
        {
          "output_type": "display_data",
          "data": {
            "text/plain": [
              "[1] 35"
            ],
            "text/latex": "35",
            "text/markdown": "35",
            "text/html": [
              "35"
            ]
          },
          "metadata": {
            "tags": []
          }
        }
      ]
    },
    {
      "cell_type": "code",
      "metadata": {
        "colab": {
          "base_uri": "https://localhost:8080/",
          "height": 35
        },
        "id": "_ToRK7PP16VG",
        "outputId": "a8d1ebc3-9de6-4dca-b20f-eabbe7cba889"
      },
      "source": [
        "typeof(12)"
      ],
      "execution_count": 20,
      "outputs": [
        {
          "output_type": "display_data",
          "data": {
            "text/plain": [
              "[1] \"double\""
            ],
            "text/latex": "'double'",
            "text/markdown": "'double'",
            "text/html": [
              "'double'"
            ]
          },
          "metadata": {
            "tags": []
          }
        }
      ]
    },
    {
      "cell_type": "markdown",
      "metadata": {
        "id": "dwkEL9UGTdDu"
      },
      "source": [
        " **Store computed value in a variable**\n",
        "\n",
        " The way you assign a value to a variable in R is by using the assignment operator, which is just a 'less than'symbol followed by a 'minus' sign. It looks like this: <-"
      ]
    },
    {
      "cell_type": "code",
      "metadata": {
        "id": "uoJ8DVxkT1cq",
        "colab": {
          "base_uri": "https://localhost:8080/",
          "height": 35
        },
        "outputId": "ddecf060-8da9-42a3-8175-804eb7baccfc"
      },
      "source": [
        "#Store result of 5+7 in varible c\n",
        "c<-5+8\n",
        "c"
      ],
      "execution_count": 21,
      "outputs": [
        {
          "output_type": "display_data",
          "data": {
            "text/plain": [
              "[1] 13"
            ],
            "text/latex": "13",
            "text/markdown": "13",
            "text/html": [
              "13"
            ]
          },
          "metadata": {
            "tags": []
          }
        }
      ]
    },
    {
      "cell_type": "code",
      "metadata": {
        "colab": {
          "base_uri": "https://localhost:8080/",
          "height": 35
        },
        "id": "51YX5Hh-13Fk",
        "outputId": "bd9deb51-77d3-4ded-8272-c6d793215dfb"
      },
      "source": [
        "typeof(c)"
      ],
      "execution_count": 22,
      "outputs": [
        {
          "output_type": "display_data",
          "data": {
            "text/plain": [
              "[1] \"double\""
            ],
            "text/latex": "'double'",
            "text/markdown": "'double'",
            "text/html": [
              "'double'"
            ]
          },
          "metadata": {
            "tags": []
          }
        }
      ]
    },
    {
      "cell_type": "markdown",
      "metadata": {
        "id": "J3OsGT5RV-8v"
      },
      "source": [
        "We can further use variable c in another exrpession to create variable b which is 1 excess that one fourth of value of c"
      ]
    },
    {
      "cell_type": "code",
      "metadata": {
        "colab": {
          "base_uri": "https://localhost:8080/",
          "height": 52
        },
        "id": "5jf2aI3KT1qj",
        "outputId": "92c54eb8-82c8-4e80-f1c9-7ea3fe10f86b"
      },
      "source": [
        "b<-c/4+1\n",
        "b \n",
        "d=c/4+1\n",
        "d"
      ],
      "execution_count": 23,
      "outputs": [
        {
          "output_type": "display_data",
          "data": {
            "text/plain": [
              "[1] 4.25"
            ],
            "text/latex": "4.25",
            "text/markdown": "4.25",
            "text/html": [
              "4.25"
            ]
          },
          "metadata": {
            "tags": []
          }
        },
        {
          "output_type": "display_data",
          "data": {
            "text/plain": [
              "[1] 4.25"
            ],
            "text/latex": "4.25",
            "text/markdown": "4.25",
            "text/html": [
              "4.25"
            ]
          },
          "metadata": {
            "tags": []
          }
        }
      ]
    },
    {
      "cell_type": "code",
      "metadata": {
        "colab": {
          "base_uri": "https://localhost:8080/",
          "height": 52
        },
        "id": "Ngf878ZR2GB6",
        "outputId": "bea57777-52f1-4969-cf66-258ff781c03d"
      },
      "source": [
        "typeof(b)\n",
        "typeof(d)\n"
      ],
      "execution_count": 24,
      "outputs": [
        {
          "output_type": "display_data",
          "data": {
            "text/plain": [
              "[1] \"double\""
            ],
            "text/latex": "'double'",
            "text/markdown": "'double'",
            "text/html": [
              "'double'"
            ]
          },
          "metadata": {
            "tags": []
          }
        },
        {
          "output_type": "display_data",
          "data": {
            "text/plain": [
              "[1] \"double\""
            ],
            "text/latex": "'double'",
            "text/markdown": "'double'",
            "text/html": [
              "'double'"
            ]
          },
          "metadata": {
            "tags": []
          }
        }
      ]
    },
    {
      "cell_type": "markdown",
      "metadata": {
        "id": "1E01QTsy05p_"
      },
      "source": [
        "**Creation of Vector**\n",
        "\n",
        "The easiest way to create a vector is with the c() function, which stands for 'concatenate' or 'combine'. \n",
        "\n",
        " To create a vector containing the numbers 1.1, 9, and 3.14, type c(1.1, 9, 3.14). Try it now and store the result in a variable called z in following code block. "
      ]
    },
    {
      "cell_type": "code",
      "metadata": {
        "colab": {
          "base_uri": "https://localhost:8080/",
          "height": 52
        },
        "id": "Dgx9ap0OT12g",
        "outputId": "38352b40-f91b-4d6f-aafa-a38d3c2e6ad6"
      },
      "source": [
        "z <- c(1.1, 9, 3.14)\n",
        "z\n",
        "z1 <- c(1.1, 9, 5, 566, 4564.545646)\n",
        "z1"
      ],
      "execution_count": 25,
      "outputs": [
        {
          "output_type": "display_data",
          "data": {
            "text/plain": [
              "[1] 1.10 9.00 3.14"
            ],
            "text/latex": "\\begin{enumerate*}\n\\item 1.1\n\\item 9\n\\item 3.14\n\\end{enumerate*}\n",
            "text/markdown": "1. 1.1\n2. 9\n3. 3.14\n\n\n",
            "text/html": [
              "<style>\n",
              ".list-inline {list-style: none; margin:0; padding: 0}\n",
              ".list-inline>li {display: inline-block}\n",
              ".list-inline>li:not(:last-child)::after {content: \"\\00b7\"; padding: 0 .5ex}\n",
              "</style>\n",
              "<ol class=list-inline><li>1.1</li><li>9</li><li>3.14</li></ol>\n"
            ]
          },
          "metadata": {
            "tags": []
          }
        },
        {
          "output_type": "display_data",
          "data": {
            "text/plain": [
              "[1]    1.100    9.000    5.000  566.000 4564.546"
            ],
            "text/latex": "\\begin{enumerate*}\n\\item 1.1\n\\item 9\n\\item 5\n\\item 566\n\\item 4564.545646\n\\end{enumerate*}\n",
            "text/markdown": "1. 1.1\n2. 9\n3. 5\n4. 566\n5. 4564.545646\n\n\n",
            "text/html": [
              "<style>\n",
              ".list-inline {list-style: none; margin:0; padding: 0}\n",
              ".list-inline>li {display: inline-block}\n",
              ".list-inline>li:not(:last-child)::after {content: \"\\00b7\"; padding: 0 .5ex}\n",
              "</style>\n",
              "<ol class=list-inline><li>1.1</li><li>9</li><li>5</li><li>566</li><li>4564.545646</li></ol>\n"
            ]
          },
          "metadata": {
            "tags": []
          }
        }
      ]
    },
    {
      "cell_type": "code",
      "metadata": {
        "colab": {
          "base_uri": "https://localhost:8080/",
          "height": 69
        },
        "id": "2WTysXG82Mnt",
        "outputId": "f98855c7-e71a-4452-f876-b9558d1960b5"
      },
      "source": [
        "typeof(z)\r\n",
        "typeof(z1)\r\n",
        "class(z)"
      ],
      "execution_count": 26,
      "outputs": [
        {
          "output_type": "display_data",
          "data": {
            "text/plain": [
              "[1] \"double\""
            ],
            "text/latex": "'double'",
            "text/markdown": "'double'",
            "text/html": [
              "'double'"
            ]
          },
          "metadata": {
            "tags": []
          }
        },
        {
          "output_type": "display_data",
          "data": {
            "text/plain": [
              "[1] \"double\""
            ],
            "text/latex": "'double'",
            "text/markdown": "'double'",
            "text/html": [
              "'double'"
            ]
          },
          "metadata": {
            "tags": []
          }
        },
        {
          "output_type": "display_data",
          "data": {
            "text/plain": [
              "[1] \"numeric\""
            ],
            "text/latex": "'numeric'",
            "text/markdown": "'numeric'",
            "text/html": [
              "'numeric'"
            ]
          },
          "metadata": {
            "tags": []
          }
        }
      ]
    },
    {
      "cell_type": "code",
      "metadata": {
        "colab": {
          "base_uri": "https://localhost:8080/",
          "height": 35
        },
        "id": "-Xl8TbUC3AWV",
        "outputId": "6dbc8857-049f-4d9c-f7bd-d45d5403bf46"
      },
      "source": [
        "z"
      ],
      "execution_count": 27,
      "outputs": [
        {
          "output_type": "display_data",
          "data": {
            "text/plain": [
              "[1] 1.10 9.00 3.14"
            ],
            "text/latex": "\\begin{enumerate*}\n\\item 1.1\n\\item 9\n\\item 3.14\n\\end{enumerate*}\n",
            "text/markdown": "1. 1.1\n2. 9\n3. 3.14\n\n\n",
            "text/html": [
              "<style>\n",
              ".list-inline {list-style: none; margin:0; padding: 0}\n",
              ".list-inline>li {display: inline-block}\n",
              ".list-inline>li:not(:last-child)::after {content: \"\\00b7\"; padding: 0 .5ex}\n",
              "</style>\n",
              "<ol class=list-inline><li>1.1</li><li>9</li><li>3.14</li></ol>\n"
            ]
          },
          "metadata": {
            "tags": []
          }
        }
      ]
    },
    {
      "cell_type": "code",
      "metadata": {
        "id": "-0bEqCrA2OGa"
      },
      "source": [
        "#Get Documentation about concatinate\n",
        "?c\n",
        "#help(c)"
      ],
      "execution_count": 28,
      "outputs": []
    },
    {
      "cell_type": "markdown",
      "metadata": {
        "id": "wIk26TAl3Uww"
      },
      "source": [
        "You can combine vectors to make a new vector. \n",
        "\n",
        "Create a new vector that contains z, 555, then z again in that order. Don't assign this vector to a new variable, so that we can just see the result immediately."
      ]
    },
    {
      "cell_type": "code",
      "metadata": {
        "colab": {
          "base_uri": "https://localhost:8080/",
          "height": 35
        },
        "id": "ijGw7IF73AoV",
        "outputId": "e29c5063-0713-4111-fed1-ce65a03778c0"
      },
      "source": [
        "c(z,555,z)"
      ],
      "execution_count": 29,
      "outputs": [
        {
          "output_type": "display_data",
          "data": {
            "text/plain": [
              "[1]   1.10   9.00   3.14 555.00   1.10   9.00   3.14"
            ],
            "text/latex": "\\begin{enumerate*}\n\\item 1.1\n\\item 9\n\\item 3.14\n\\item 555\n\\item 1.1\n\\item 9\n\\item 3.14\n\\end{enumerate*}\n",
            "text/markdown": "1. 1.1\n2. 9\n3. 3.14\n4. 555\n5. 1.1\n6. 9\n7. 3.14\n\n\n",
            "text/html": [
              "<style>\n",
              ".list-inline {list-style: none; margin:0; padding: 0}\n",
              ".list-inline>li {display: inline-block}\n",
              ".list-inline>li:not(:last-child)::after {content: \"\\00b7\"; padding: 0 .5ex}\n",
              "</style>\n",
              "<ol class=list-inline><li>1.1</li><li>9</li><li>3.14</li><li>555</li><li>1.1</li><li>9</li><li>3.14</li></ol>\n"
            ]
          },
          "metadata": {
            "tags": []
          }
        }
      ]
    },
    {
      "cell_type": "code",
      "metadata": {
        "id": "Rmt0Jnj4OMkR"
      },
      "source": [
        "z<-c(3,6,5)"
      ],
      "execution_count": 30,
      "outputs": []
    },
    {
      "cell_type": "markdown",
      "metadata": {
        "id": "2W1R03gK3mWg"
      },
      "source": [
        "**Using Vector in Expression**\n",
        "\n",
        "compute z^2 + 3 and check output"
      ]
    },
    {
      "cell_type": "code",
      "metadata": {
        "colab": {
          "base_uri": "https://localhost:8080/",
          "height": 52
        },
        "id": "N_x4nZD-2ifL",
        "outputId": "310b513b-ad33-41b4-d075-52781496d8da"
      },
      "source": [
        "z\r\n",
        "z^2+3"
      ],
      "execution_count": 31,
      "outputs": [
        {
          "output_type": "display_data",
          "data": {
            "text/plain": [
              "[1] 3 6 5"
            ],
            "text/latex": "\\begin{enumerate*}\n\\item 3\n\\item 6\n\\item 5\n\\end{enumerate*}\n",
            "text/markdown": "1. 3\n2. 6\n3. 5\n\n\n",
            "text/html": [
              "<style>\n",
              ".list-inline {list-style: none; margin:0; padding: 0}\n",
              ".list-inline>li {display: inline-block}\n",
              ".list-inline>li:not(:last-child)::after {content: \"\\00b7\"; padding: 0 .5ex}\n",
              "</style>\n",
              "<ol class=list-inline><li>3</li><li>6</li><li>5</li></ol>\n"
            ]
          },
          "metadata": {
            "tags": []
          }
        },
        {
          "output_type": "display_data",
          "data": {
            "text/plain": [
              "[1] 12 39 28"
            ],
            "text/latex": "\\begin{enumerate*}\n\\item 12\n\\item 39\n\\item 28\n\\end{enumerate*}\n",
            "text/markdown": "1. 12\n2. 39\n3. 28\n\n\n",
            "text/html": [
              "<style>\n",
              ".list-inline {list-style: none; margin:0; padding: 0}\n",
              ".list-inline>li {display: inline-block}\n",
              ".list-inline>li:not(:last-child)::after {content: \"\\00b7\"; padding: 0 .5ex}\n",
              "</style>\n",
              "<ol class=list-inline><li>12</li><li>39</li><li>28</li></ol>\n"
            ]
          },
          "metadata": {
            "tags": []
          }
        }
      ]
    },
    {
      "cell_type": "markdown",
      "metadata": {
        "id": "C6Sl3d3m4Mpu"
      },
      "source": [
        "**Comman Arithmatic Operators in R**\n",
        "\n",
        "+, -, /, *, ^ are comman operators and sqrt, abs are arithmatic functions in R"
      ]
    },
    {
      "cell_type": "markdown",
      "metadata": {
        "id": "MhpNvKxD5b39"
      },
      "source": [
        "When given two vectors of the same length, R simply performs the specified arithmetic operation (`+`, `-`, `*` etc.) element-by-element. If the vectors are of different lengths, R 'recycles' the shorter vector until it is the same length as the longer vector.\n",
        "\n",
        "When we do z * 2 + 100, z is a vector of length 3, but technically 2 and 100 are each vectors of length 1."
      ]
    },
    {
      "cell_type": "code",
      "metadata": {
        "colab": {
          "base_uri": "https://localhost:8080/",
          "height": 52
        },
        "id": "ymnNvfCUJX__",
        "outputId": "6be9a84a-0cee-4239-dde6-e1b0a1523825"
      },
      "source": [
        "y<-rep(2,10)\r\n",
        "y\r\n",
        "length(y)"
      ],
      "execution_count": 32,
      "outputs": [
        {
          "output_type": "display_data",
          "data": {
            "text/plain": [
              " [1] 2 2 2 2 2 2 2 2 2 2"
            ],
            "text/latex": "\\begin{enumerate*}\n\\item 2\n\\item 2\n\\item 2\n\\item 2\n\\item 2\n\\item 2\n\\item 2\n\\item 2\n\\item 2\n\\item 2\n\\end{enumerate*}\n",
            "text/markdown": "1. 2\n2. 2\n3. 2\n4. 2\n5. 2\n6. 2\n7. 2\n8. 2\n9. 2\n10. 2\n\n\n",
            "text/html": [
              "<style>\n",
              ".list-inline {list-style: none; margin:0; padding: 0}\n",
              ".list-inline>li {display: inline-block}\n",
              ".list-inline>li:not(:last-child)::after {content: \"\\00b7\"; padding: 0 .5ex}\n",
              "</style>\n",
              "<ol class=list-inline><li>2</li><li>2</li><li>2</li><li>2</li><li>2</li><li>2</li><li>2</li><li>2</li><li>2</li><li>2</li></ol>\n"
            ]
          },
          "metadata": {
            "tags": []
          }
        },
        {
          "output_type": "display_data",
          "data": {
            "text/plain": [
              "[1] 10"
            ],
            "text/latex": "10",
            "text/markdown": "10",
            "text/html": [
              "10"
            ]
          },
          "metadata": {
            "tags": []
          }
        }
      ]
    },
    {
      "cell_type": "code",
      "metadata": {
        "colab": {
          "base_uri": "https://localhost:8080/",
          "height": 121
        },
        "id": "vENgSa6E32kc",
        "outputId": "d539237e-f9eb-490e-cdc9-3e608fd3f922"
      },
      "source": [
        "# Does recycling explains output of following expression\n",
        "c(1, 2, 3, 4) + c(0, 10)\n",
        "c(1, 2, 3, 4) + c(0, 10, 0 ,10)\n",
        "c(1, 2, 3, 4, 5)+ c(0, 10)\n",
        "c(1, 2, 3, 4, 5)+ c(2, 10, 2, 10, 2)"
      ],
      "execution_count": 33,
      "outputs": [
        {
          "output_type": "display_data",
          "data": {
            "text/plain": [
              "[1]  1 12  3 14"
            ],
            "text/latex": "\\begin{enumerate*}\n\\item 1\n\\item 12\n\\item 3\n\\item 14\n\\end{enumerate*}\n",
            "text/markdown": "1. 1\n2. 12\n3. 3\n4. 14\n\n\n",
            "text/html": [
              "<style>\n",
              ".list-inline {list-style: none; margin:0; padding: 0}\n",
              ".list-inline>li {display: inline-block}\n",
              ".list-inline>li:not(:last-child)::after {content: \"\\00b7\"; padding: 0 .5ex}\n",
              "</style>\n",
              "<ol class=list-inline><li>1</li><li>12</li><li>3</li><li>14</li></ol>\n"
            ]
          },
          "metadata": {
            "tags": []
          }
        },
        {
          "output_type": "display_data",
          "data": {
            "text/plain": [
              "[1]  1 12  3 14"
            ],
            "text/latex": "\\begin{enumerate*}\n\\item 1\n\\item 12\n\\item 3\n\\item 14\n\\end{enumerate*}\n",
            "text/markdown": "1. 1\n2. 12\n3. 3\n4. 14\n\n\n",
            "text/html": [
              "<style>\n",
              ".list-inline {list-style: none; margin:0; padding: 0}\n",
              ".list-inline>li {display: inline-block}\n",
              ".list-inline>li:not(:last-child)::after {content: \"\\00b7\"; padding: 0 .5ex}\n",
              "</style>\n",
              "<ol class=list-inline><li>1</li><li>12</li><li>3</li><li>14</li></ol>\n"
            ]
          },
          "metadata": {
            "tags": []
          }
        },
        {
          "output_type": "stream",
          "text": [
            "Warning message in c(1, 2, 3, 4, 5) + c(0, 10):\n",
            "“longer object length is not a multiple of shorter object length”\n"
          ],
          "name": "stderr"
        },
        {
          "output_type": "display_data",
          "data": {
            "text/plain": [
              "[1]  1 12  3 14  5"
            ],
            "text/latex": "\\begin{enumerate*}\n\\item 1\n\\item 12\n\\item 3\n\\item 14\n\\item 5\n\\end{enumerate*}\n",
            "text/markdown": "1. 1\n2. 12\n3. 3\n4. 14\n5. 5\n\n\n",
            "text/html": [
              "<style>\n",
              ".list-inline {list-style: none; margin:0; padding: 0}\n",
              ".list-inline>li {display: inline-block}\n",
              ".list-inline>li:not(:last-child)::after {content: \"\\00b7\"; padding: 0 .5ex}\n",
              "</style>\n",
              "<ol class=list-inline><li>1</li><li>12</li><li>3</li><li>14</li><li>5</li></ol>\n"
            ]
          },
          "metadata": {
            "tags": []
          }
        },
        {
          "output_type": "display_data",
          "data": {
            "text/plain": [
              "[1]  3 12  5 14  7"
            ],
            "text/latex": "\\begin{enumerate*}\n\\item 3\n\\item 12\n\\item 5\n\\item 14\n\\item 7\n\\end{enumerate*}\n",
            "text/markdown": "1. 3\n2. 12\n3. 5\n4. 14\n5. 7\n\n\n",
            "text/html": [
              "<style>\n",
              ".list-inline {list-style: none; margin:0; padding: 0}\n",
              ".list-inline>li {display: inline-block}\n",
              ".list-inline>li:not(:last-child)::after {content: \"\\00b7\"; padding: 0 .5ex}\n",
              "</style>\n",
              "<ol class=list-inline><li>3</li><li>12</li><li>5</li><li>14</li><li>7</li></ol>\n"
            ]
          },
          "metadata": {
            "tags": []
          }
        }
      ]
    },
    {
      "cell_type": "code",
      "metadata": {
        "id": "5lA714zl6KG3",
        "colab": {
          "base_uri": "https://localhost:8080/",
          "height": 35
        },
        "outputId": "29c5d1b9-fdbb-4b00-b548-a14d141197d5"
      },
      "source": [
        "curdir<-getwd()\n",
        "curdir"
      ],
      "execution_count": 34,
      "outputs": [
        {
          "output_type": "display_data",
          "data": {
            "text/plain": [
              "[1] \"/content\""
            ],
            "text/latex": "'/content'",
            "text/markdown": "'/content'",
            "text/html": [
              "'/content'"
            ]
          },
          "metadata": {
            "tags": []
          }
        }
      ]
    },
    {
      "cell_type": "code",
      "metadata": {
        "colab": {
          "base_uri": "https://localhost:8080/",
          "height": 35
        },
        "id": "qfLiWY-f2bx3",
        "outputId": "797f136a-80f5-4188-e3d1-26c30869d3cc"
      },
      "source": [
        "ls()"
      ],
      "execution_count": 35,
      "outputs": [
        {
          "output_type": "display_data",
          "data": {
            "text/plain": [
              "[1] \"b\"      \"c\"      \"curdir\" \"d\"      \"y\"      \"z\"      \"z1\"    "
            ],
            "text/latex": "\\begin{enumerate*}\n\\item 'b'\n\\item 'c'\n\\item 'curdir'\n\\item 'd'\n\\item 'y'\n\\item 'z'\n\\item 'z1'\n\\end{enumerate*}\n",
            "text/markdown": "1. 'b'\n2. 'c'\n3. 'curdir'\n4. 'd'\n5. 'y'\n6. 'z'\n7. 'z1'\n\n\n",
            "text/html": [
              "<style>\n",
              ".list-inline {list-style: none; margin:0; padding: 0}\n",
              ".list-inline>li {display: inline-block}\n",
              ".list-inline>li:not(:last-child)::after {content: \"\\00b7\"; padding: 0 .5ex}\n",
              "</style>\n",
              "<ol class=list-inline><li>'b'</li><li>'c'</li><li>'curdir'</li><li>'d'</li><li>'y'</li><li>'z'</li><li>'z1'</li></ol>\n"
            ]
          },
          "metadata": {
            "tags": []
          }
        }
      ]
    },
    {
      "cell_type": "code",
      "metadata": {
        "colab": {
          "base_uri": "https://localhost:8080/",
          "height": 35
        },
        "id": "ksWmlrly2nEP",
        "outputId": "a70a9d83-2d6a-44fa-c37e-08dcd5a8b0e8"
      },
      "source": [
        "#show you files in PWD\n",
        "# list.files()\n",
        "dir('.')"
      ],
      "execution_count": 36,
      "outputs": [
        {
          "output_type": "display_data",
          "data": {
            "text/plain": [
              "[1] \"sample_data\""
            ],
            "text/latex": "'sample\\_data'",
            "text/markdown": "'sample_data'",
            "text/html": [
              "'sample_data'"
            ]
          },
          "metadata": {
            "tags": []
          }
        }
      ]
    },
    {
      "cell_type": "code",
      "metadata": {
        "colab": {
          "base_uri": "https://localhost:8080/",
          "height": 35
        },
        "id": "QkEscD2x3CnA",
        "outputId": "bb5db7ed-572c-4537-c14e-7e33eea30cdc"
      },
      "source": [
        "list.dirs('sample_data')"
      ],
      "execution_count": 37,
      "outputs": [
        {
          "output_type": "display_data",
          "data": {
            "text/plain": [
              "[1] \"sample_data\""
            ],
            "text/latex": "'sample\\_data'",
            "text/markdown": "'sample_data'",
            "text/html": [
              "'sample_data'"
            ]
          },
          "metadata": {
            "tags": []
          }
        }
      ]
    },
    {
      "cell_type": "code",
      "metadata": {
        "id": "Q_0Aq8xP3F2P"
      },
      "source": [
        "old_dir<-getwd()"
      ],
      "execution_count": 38,
      "outputs": []
    },
    {
      "cell_type": "code",
      "metadata": {
        "id": "qg_N6Ejx3krB"
      },
      "source": [
        "dir.create('test2')"
      ],
      "execution_count": 39,
      "outputs": []
    },
    {
      "cell_type": "code",
      "metadata": {
        "colab": {
          "base_uri": "https://localhost:8080/",
          "height": 35
        },
        "id": "sIkEEQaC38Mm",
        "outputId": "ea7173bc-68dd-4cb3-9778-85270f651099"
      },
      "source": [
        "list.dirs()"
      ],
      "execution_count": 40,
      "outputs": [
        {
          "output_type": "display_data",
          "data": {
            "text/plain": [
              "[1] \".\"                         \"./.config\"                \n",
              "[3] \"./.config/configurations\"  \"./.config/logs\"           \n",
              "[5] \"./.config/logs/2021.03.01\" \"./sample_data\"            \n",
              "[7] \"./test2\"                  "
            ],
            "text/latex": "\\begin{enumerate*}\n\\item '.'\n\\item './.config'\n\\item './.config/configurations'\n\\item './.config/logs'\n\\item './.config/logs/2021.03.01'\n\\item './sample\\_data'\n\\item './test2'\n\\end{enumerate*}\n",
            "text/markdown": "1. '.'\n2. './.config'\n3. './.config/configurations'\n4. './.config/logs'\n5. './.config/logs/2021.03.01'\n6. './sample_data'\n7. './test2'\n\n\n",
            "text/html": [
              "<style>\n",
              ".list-inline {list-style: none; margin:0; padding: 0}\n",
              ".list-inline>li {display: inline-block}\n",
              ".list-inline>li:not(:last-child)::after {content: \"\\00b7\"; padding: 0 .5ex}\n",
              "</style>\n",
              "<ol class=list-inline><li>'.'</li><li>'./.config'</li><li>'./.config/configurations'</li><li>'./.config/logs'</li><li>'./.config/logs/2021.03.01'</li><li>'./sample_data'</li><li>'./test2'</li></ol>\n"
            ]
          },
          "metadata": {
            "tags": []
          }
        }
      ]
    },
    {
      "cell_type": "code",
      "metadata": {
        "id": "JEZqFJwN4Bit",
        "colab": {
          "base_uri": "https://localhost:8080/",
          "height": 35
        },
        "outputId": "eb92c3d1-40d4-438c-e6d9-ffce4b9da812"
      },
      "source": [
        "getwd()"
      ],
      "execution_count": 41,
      "outputs": [
        {
          "output_type": "display_data",
          "data": {
            "text/plain": [
              "[1] \"/content\""
            ],
            "text/latex": "'/content'",
            "text/markdown": "'/content'",
            "text/html": [
              "'/content'"
            ]
          },
          "metadata": {
            "tags": []
          }
        }
      ]
    },
    {
      "cell_type": "code",
      "metadata": {
        "colab": {
          "base_uri": "https://localhost:8080/",
          "height": 35
        },
        "id": "-4s6O4Bs4IrF",
        "outputId": "52f3103a-a2ac-4173-ad4d-f029ac75abf6"
      },
      "source": [
        "file.create('mytest.R')"
      ],
      "execution_count": 42,
      "outputs": [
        {
          "output_type": "display_data",
          "data": {
            "text/plain": [
              "[1] TRUE"
            ],
            "text/latex": "TRUE",
            "text/markdown": "TRUE",
            "text/html": [
              "TRUE"
            ]
          },
          "metadata": {
            "tags": []
          }
        }
      ]
    },
    {
      "cell_type": "code",
      "metadata": {
        "colab": {
          "base_uri": "https://localhost:8080/",
          "height": 35
        },
        "id": "7qFMXVAD4aJp",
        "outputId": "113a7b9f-e771-425a-a0a8-48b5af4992ae"
      },
      "source": [
        "dir()"
      ],
      "execution_count": 43,
      "outputs": [
        {
          "output_type": "display_data",
          "data": {
            "text/plain": [
              "[1] \"mytest.R\"    \"sample_data\" \"test2\"      "
            ],
            "text/latex": "\\begin{enumerate*}\n\\item 'mytest.R'\n\\item 'sample\\_data'\n\\item 'test2'\n\\end{enumerate*}\n",
            "text/markdown": "1. 'mytest.R'\n2. 'sample_data'\n3. 'test2'\n\n\n",
            "text/html": [
              "<style>\n",
              ".list-inline {list-style: none; margin:0; padding: 0}\n",
              ".list-inline>li {display: inline-block}\n",
              ".list-inline>li:not(:last-child)::after {content: \"\\00b7\"; padding: 0 .5ex}\n",
              "</style>\n",
              "<ol class=list-inline><li>'mytest.R'</li><li>'sample_data'</li><li>'test2'</li></ol>\n"
            ]
          },
          "metadata": {
            "tags": []
          }
        }
      ]
    },
    {
      "cell_type": "code",
      "metadata": {
        "colab": {
          "base_uri": "https://localhost:8080/",
          "height": 52
        },
        "id": "haRUcBBT4kPf",
        "outputId": "2489e5f2-8b52-4f46-bab3-32a927b7e492"
      },
      "source": [
        "file.exists('/test2/mytest.R')\r\n",
        "file.exists('mytest.R')"
      ],
      "execution_count": 44,
      "outputs": [
        {
          "output_type": "display_data",
          "data": {
            "text/plain": [
              "[1] FALSE"
            ],
            "text/latex": "FALSE",
            "text/markdown": "FALSE",
            "text/html": [
              "FALSE"
            ]
          },
          "metadata": {
            "tags": []
          }
        },
        {
          "output_type": "display_data",
          "data": {
            "text/plain": [
              "[1] TRUE"
            ],
            "text/latex": "TRUE",
            "text/markdown": "TRUE",
            "text/html": [
              "TRUE"
            ]
          },
          "metadata": {
            "tags": []
          }
        }
      ]
    },
    {
      "cell_type": "code",
      "metadata": {
        "colab": {
          "base_uri": "https://localhost:8080/",
          "height": 127
        },
        "id": "254zalqu4r2-",
        "outputId": "1dca74f5-c7e2-4e27-928c-35da6a36f0b8"
      },
      "source": [
        " dir.create('dir1')\n",
        " file.info('dir1')"
      ],
      "execution_count": 45,
      "outputs": [
        {
          "output_type": "display_data",
          "data": {
            "text/plain": [
              "     size isdir mode mtime               ctime              \n",
              "dir1 4096 TRUE  755  2021-03-06 15:54:00 2021-03-06 15:54:00\n",
              "     atime               uid gid uname grname\n",
              "dir1 2021-03-06 15:54:00 0   0   root  root  "
            ],
            "text/latex": "A data.frame: 1 × 10\n\\begin{tabular}{r|llllllllll}\n  & size & isdir & mode & mtime & ctime & atime & uid & gid & uname & grname\\\\\n  & <dbl> & <lgl> & <octmode> & <dttm> & <dttm> & <dttm> & <int> & <int> & <chr> & <chr>\\\\\n\\hline\n\tdir1 & 4096 & TRUE & 755 & 2021-03-06 15:54:00 & 2021-03-06 15:54:00 & 2021-03-06 15:54:00 & 0 & 0 & root & root\\\\\n\\end{tabular}\n",
            "text/markdown": "\nA data.frame: 1 × 10\n\n| <!--/--> | size &lt;dbl&gt; | isdir &lt;lgl&gt; | mode &lt;octmode&gt; | mtime &lt;dttm&gt; | ctime &lt;dttm&gt; | atime &lt;dttm&gt; | uid &lt;int&gt; | gid &lt;int&gt; | uname &lt;chr&gt; | grname &lt;chr&gt; |\n|---|---|---|---|---|---|---|---|---|---|---|\n| dir1 | 4096 | TRUE | 755 | 2021-03-06 15:54:00 | 2021-03-06 15:54:00 | 2021-03-06 15:54:00 | 0 | 0 | root | root |\n\n",
            "text/html": [
              "<table class=\"dataframe\">\n",
              "<caption>A data.frame: 1 × 10</caption>\n",
              "<thead>\n",
              "\t<tr><th></th><th scope=col>size</th><th scope=col>isdir</th><th scope=col>mode</th><th scope=col>mtime</th><th scope=col>ctime</th><th scope=col>atime</th><th scope=col>uid</th><th scope=col>gid</th><th scope=col>uname</th><th scope=col>grname</th></tr>\n",
              "\t<tr><th></th><th scope=col>&lt;dbl&gt;</th><th scope=col>&lt;lgl&gt;</th><th scope=col>&lt;octmode&gt;</th><th scope=col>&lt;dttm&gt;</th><th scope=col>&lt;dttm&gt;</th><th scope=col>&lt;dttm&gt;</th><th scope=col>&lt;int&gt;</th><th scope=col>&lt;int&gt;</th><th scope=col>&lt;chr&gt;</th><th scope=col>&lt;chr&gt;</th></tr>\n",
              "</thead>\n",
              "<tbody>\n",
              "\t<tr><th scope=row>dir1</th><td>4096</td><td>TRUE</td><td>755</td><td>2021-03-06 15:54:00</td><td>2021-03-06 15:54:00</td><td>2021-03-06 15:54:00</td><td>0</td><td>0</td><td>root</td><td>root</td></tr>\n",
              "</tbody>\n",
              "</table>\n"
            ]
          },
          "metadata": {
            "tags": []
          }
        }
      ]
    },
    {
      "cell_type": "code",
      "metadata": {
        "colab": {
          "base_uri": "https://localhost:8080/",
          "height": 35
        },
        "id": "Zpnce-Rn5KTs",
        "outputId": "1e9ff7ba-bb1c-45eb-97a4-db70dfe07218"
      },
      "source": [
        "file.rename('mytest.R','mytest2.R')"
      ],
      "execution_count": 46,
      "outputs": [
        {
          "output_type": "display_data",
          "data": {
            "text/plain": [
              "[1] TRUE"
            ],
            "text/latex": "TRUE",
            "text/markdown": "TRUE",
            "text/html": [
              "TRUE"
            ]
          },
          "metadata": {
            "tags": []
          }
        }
      ]
    },
    {
      "cell_type": "code",
      "metadata": {
        "colab": {
          "base_uri": "https://localhost:8080/",
          "height": 35
        },
        "id": "7z0Z3KOX5exz",
        "outputId": "eeefc7b8-c07e-4882-bade-26c7dfdbdaa4"
      },
      "source": [
        "dir()"
      ],
      "execution_count": 47,
      "outputs": [
        {
          "output_type": "display_data",
          "data": {
            "text/plain": [
              "[1] \"dir1\"        \"mytest2.R\"   \"sample_data\" \"test2\"      "
            ],
            "text/latex": "\\begin{enumerate*}\n\\item 'dir1'\n\\item 'mytest2.R'\n\\item 'sample\\_data'\n\\item 'test2'\n\\end{enumerate*}\n",
            "text/markdown": "1. 'dir1'\n2. 'mytest2.R'\n3. 'sample_data'\n4. 'test2'\n\n\n",
            "text/html": [
              "<style>\n",
              ".list-inline {list-style: none; margin:0; padding: 0}\n",
              ".list-inline>li {display: inline-block}\n",
              ".list-inline>li:not(:last-child)::after {content: \"\\00b7\"; padding: 0 .5ex}\n",
              "</style>\n",
              "<ol class=list-inline><li>'dir1'</li><li>'mytest2.R'</li><li>'sample_data'</li><li>'test2'</li></ol>\n"
            ]
          },
          "metadata": {
            "tags": []
          }
        }
      ]
    },
    {
      "cell_type": "code",
      "metadata": {
        "colab": {
          "base_uri": "https://localhost:8080/",
          "height": 35
        },
        "id": "A0RhfnOe5hzW",
        "outputId": "1c0d86f4-c558-445d-e497-094a718b1c48"
      },
      "source": [
        "file.copy('mytest2.R','mytest3.R')"
      ],
      "execution_count": 48,
      "outputs": [
        {
          "output_type": "display_data",
          "data": {
            "text/plain": [
              "[1] TRUE"
            ],
            "text/latex": "TRUE",
            "text/markdown": "TRUE",
            "text/html": [
              "TRUE"
            ]
          },
          "metadata": {
            "tags": []
          }
        }
      ]
    },
    {
      "cell_type": "code",
      "metadata": {
        "colab": {
          "base_uri": "https://localhost:8080/",
          "height": 35
        },
        "id": "_BRKWKFp8kuV",
        "outputId": "7b1ad3f5-f2de-443e-c3d3-94780893d279"
      },
      "source": [
        "file.path('testdir2','testdir3')"
      ],
      "execution_count": 49,
      "outputs": [
        {
          "output_type": "display_data",
          "data": {
            "text/plain": [
              "[1] \"testdir2/testdir3\""
            ],
            "text/latex": "'testdir2/testdir3'",
            "text/markdown": "'testdir2/testdir3'",
            "text/html": [
              "'testdir2/testdir3'"
            ]
          },
          "metadata": {
            "tags": []
          }
        }
      ]
    },
    {
      "cell_type": "code",
      "metadata": {
        "id": "6oN630V6577F"
      },
      "source": [
        " dir.create(file.path('testdir2','testdir3'),recursive = TRUE)"
      ],
      "execution_count": 50,
      "outputs": []
    },
    {
      "cell_type": "code",
      "metadata": {
        "id": "lZIz4bXC7L1f",
        "colab": {
          "base_uri": "https://localhost:8080/",
          "height": 35
        },
        "outputId": "6f7caa32-8b15-48e0-be5a-7613a282af66"
      },
      "source": [
        "dir()"
      ],
      "execution_count": 51,
      "outputs": [
        {
          "output_type": "display_data",
          "data": {
            "text/plain": [
              "[1] \"dir1\"        \"mytest2.R\"   \"mytest3.R\"   \"sample_data\" \"test2\"      \n",
              "[6] \"testdir2\"   "
            ],
            "text/latex": "\\begin{enumerate*}\n\\item 'dir1'\n\\item 'mytest2.R'\n\\item 'mytest3.R'\n\\item 'sample\\_data'\n\\item 'test2'\n\\item 'testdir2'\n\\end{enumerate*}\n",
            "text/markdown": "1. 'dir1'\n2. 'mytest2.R'\n3. 'mytest3.R'\n4. 'sample_data'\n5. 'test2'\n6. 'testdir2'\n\n\n",
            "text/html": [
              "<style>\n",
              ".list-inline {list-style: none; margin:0; padding: 0}\n",
              ".list-inline>li {display: inline-block}\n",
              ".list-inline>li:not(:last-child)::after {content: \"\\00b7\"; padding: 0 .5ex}\n",
              "</style>\n",
              "<ol class=list-inline><li>'dir1'</li><li>'mytest2.R'</li><li>'mytest3.R'</li><li>'sample_data'</li><li>'test2'</li><li>'testdir2'</li></ol>\n"
            ]
          },
          "metadata": {
            "tags": []
          }
        }
      ]
    },
    {
      "cell_type": "code",
      "metadata": {
        "colab": {
          "base_uri": "https://localhost:8080/",
          "height": 52
        },
        "id": "9eI0FKYV7Uqr",
        "outputId": "081f2044-d447-4b19-b581-8c85e2d5a2e3"
      },
      "source": [
        "dir('testdir2')\n",
        "getwd()"
      ],
      "execution_count": 52,
      "outputs": [
        {
          "output_type": "display_data",
          "data": {
            "text/plain": [
              "[1] \"testdir3\""
            ],
            "text/latex": "'testdir3'",
            "text/markdown": "'testdir3'",
            "text/html": [
              "'testdir3'"
            ]
          },
          "metadata": {
            "tags": []
          }
        },
        {
          "output_type": "display_data",
          "data": {
            "text/plain": [
              "[1] \"/content\""
            ],
            "text/latex": "'/content'",
            "text/markdown": "'/content'",
            "text/html": [
              "'/content'"
            ]
          },
          "metadata": {
            "tags": []
          }
        }
      ]
    },
    {
      "cell_type": "markdown",
      "metadata": {
        "id": "qM2e_KzXBjST"
      },
      "source": [
        "**Complete following tasks**\n",
        "\n",
        "Write R Code:\n",
        " \n",
        "\n",
        "1.    To create a directory named myworkplace in current working dirctory.\n",
        "2.   Create a folders/directories **exp1 and exp2** in it.\n",
        "3.   Navigate to **exp1** and create a file named **my_file.txt**. \n",
        "4.   Copy it to **my_file1.txt**\n",
        "5.   List files and folders in PWD and also in '/contents' directory  \n",
        "6.   Display only File access permisssion in the output for every file in **exp1** folder. "
      ]
    },
    {
      "cell_type": "code",
      "metadata": {
        "colab": {
          "base_uri": "https://localhost:8080/",
          "height": 52
        },
        "id": "En4uL6IQP-Dt",
        "outputId": "2a3a8411-5f70-4dd6-c568-6d6c43424664"
      },
      "source": [
        "getwd()\r\n",
        "dir.create('myworkplace')\r\n",
        "getwd()"
      ],
      "execution_count": 56,
      "outputs": [
        {
          "output_type": "display_data",
          "data": {
            "text/plain": [
              "[1] \"/content\""
            ],
            "text/latex": "'/content'",
            "text/markdown": "'/content'",
            "text/html": [
              "'/content'"
            ]
          },
          "metadata": {
            "tags": []
          }
        },
        {
          "output_type": "display_data",
          "data": {
            "text/plain": [
              "[1] \"/content\""
            ],
            "text/latex": "'/content'",
            "text/markdown": "'/content'",
            "text/html": [
              "'/content'"
            ]
          },
          "metadata": {
            "tags": []
          }
        }
      ]
    },
    {
      "cell_type": "code",
      "metadata": {
        "colab": {
          "base_uri": "https://localhost:8080/",
          "height": 35
        },
        "id": "_JwN9XcgQdPm",
        "outputId": "189b6361-a5df-4992-d114-d7dd1dc6faab"
      },
      "source": [
        "setwd('myworkplace')\r\n",
        "getwd()"
      ],
      "execution_count": 57,
      "outputs": [
        {
          "output_type": "display_data",
          "data": {
            "text/plain": [
              "[1] \"/content/myworkplace\""
            ],
            "text/latex": "'/content/myworkplace'",
            "text/markdown": "'/content/myworkplace'",
            "text/html": [
              "'/content/myworkplace'"
            ]
          },
          "metadata": {
            "tags": []
          }
        }
      ]
    },
    {
      "cell_type": "code",
      "metadata": {
        "id": "OT9Hs_URQskz"
      },
      "source": [
        "dir.create('exp1')\r\n",
        "dir.create('exp2')\r\n",
        "setwd('exp1')"
      ],
      "execution_count": 58,
      "outputs": []
    },
    {
      "cell_type": "code",
      "metadata": {
        "colab": {
          "base_uri": "https://localhost:8080/",
          "height": 35
        },
        "id": "AO4WaZlvQ6v0",
        "outputId": "ab4839f2-d58a-49f0-ac2f-cee273aef046"
      },
      "source": [
        "getwd()"
      ],
      "execution_count": 59,
      "outputs": [
        {
          "output_type": "display_data",
          "data": {
            "text/plain": [
              "[1] \"/content/myworkplace/exp1\""
            ],
            "text/latex": "'/content/myworkplace/exp1'",
            "text/markdown": "'/content/myworkplace/exp1'",
            "text/html": [
              "'/content/myworkplace/exp1'"
            ]
          },
          "metadata": {
            "tags": []
          }
        }
      ]
    },
    {
      "cell_type": "code",
      "metadata": {
        "colab": {
          "base_uri": "https://localhost:8080/",
          "height": 35
        },
        "id": "y37U0vHbRApR",
        "outputId": "7637729c-2d5b-444a-83ba-ff008d5dd1e0"
      },
      "source": [
        "file.create('my_file.txt')"
      ],
      "execution_count": 61,
      "outputs": [
        {
          "output_type": "display_data",
          "data": {
            "text/plain": [
              "[1] TRUE"
            ],
            "text/latex": "TRUE",
            "text/markdown": "TRUE",
            "text/html": [
              "TRUE"
            ]
          },
          "metadata": {
            "tags": []
          }
        }
      ]
    },
    {
      "cell_type": "code",
      "metadata": {
        "colab": {
          "base_uri": "https://localhost:8080/",
          "height": 35
        },
        "id": "jBVuxReGRUcb",
        "outputId": "b34f346d-fb61-47b5-af73-92a62c700096"
      },
      "source": [
        "file.copy('my_file.txt','my_file1.txt')"
      ],
      "execution_count": 62,
      "outputs": [
        {
          "output_type": "display_data",
          "data": {
            "text/plain": [
              "[1] TRUE"
            ],
            "text/latex": "TRUE",
            "text/markdown": "TRUE",
            "text/html": [
              "TRUE"
            ]
          },
          "metadata": {
            "tags": []
          }
        }
      ]
    },
    {
      "cell_type": "code",
      "metadata": {
        "colab": {
          "base_uri": "https://localhost:8080/",
          "height": 35
        },
        "id": "5TuyRi9hRg7y",
        "outputId": "e2abc8e5-f3fa-45ac-f417-b5fba63e16a6"
      },
      "source": [
        "list.files()"
      ],
      "execution_count": 63,
      "outputs": [
        {
          "output_type": "display_data",
          "data": {
            "text/plain": [
              "[1] \"my_file.txt\"  \"my_file1.txt\""
            ],
            "text/latex": "\\begin{enumerate*}\n\\item 'my\\_file.txt'\n\\item 'my\\_file1.txt'\n\\end{enumerate*}\n",
            "text/markdown": "1. 'my_file.txt'\n2. 'my_file1.txt'\n\n\n",
            "text/html": [
              "<style>\n",
              ".list-inline {list-style: none; margin:0; padding: 0}\n",
              ".list-inline>li {display: inline-block}\n",
              ".list-inline>li:not(:last-child)::after {content: \"\\00b7\"; padding: 0 .5ex}\n",
              "</style>\n",
              "<ol class=list-inline><li>'my_file.txt'</li><li>'my_file1.txt'</li></ol>\n"
            ]
          },
          "metadata": {
            "tags": []
          }
        }
      ]
    },
    {
      "cell_type": "code",
      "metadata": {
        "colab": {
          "base_uri": "https://localhost:8080/",
          "height": 35
        },
        "id": "uioAtXXYRp3W",
        "outputId": "01e310c2-58fe-48fe-fbd0-dec7ee280f65"
      },
      "source": [
        "setwd('/content')\r\n",
        "getwd()"
      ],
      "execution_count": 64,
      "outputs": [
        {
          "output_type": "display_data",
          "data": {
            "text/plain": [
              "[1] \"/content\""
            ],
            "text/latex": "'/content'",
            "text/markdown": "'/content'",
            "text/html": [
              "'/content'"
            ]
          },
          "metadata": {
            "tags": []
          }
        }
      ]
    },
    {
      "cell_type": "code",
      "metadata": {
        "colab": {
          "base_uri": "https://localhost:8080/",
          "height": 35
        },
        "id": "YIGroRohR2Oy",
        "outputId": "4927235c-2552-4f60-9739-ecb9ce80b509"
      },
      "source": [
        "list.files()"
      ],
      "execution_count": 65,
      "outputs": [
        {
          "output_type": "display_data",
          "data": {
            "text/plain": [
              "[1] \"dir1\"        \"mytest2.R\"   \"mytest3.R\"   \"myworkplace\" \"sample_data\"\n",
              "[6] \"test2\"       \"testdir2\"   "
            ],
            "text/latex": "\\begin{enumerate*}\n\\item 'dir1'\n\\item 'mytest2.R'\n\\item 'mytest3.R'\n\\item 'myworkplace'\n\\item 'sample\\_data'\n\\item 'test2'\n\\item 'testdir2'\n\\end{enumerate*}\n",
            "text/markdown": "1. 'dir1'\n2. 'mytest2.R'\n3. 'mytest3.R'\n4. 'myworkplace'\n5. 'sample_data'\n6. 'test2'\n7. 'testdir2'\n\n\n",
            "text/html": [
              "<style>\n",
              ".list-inline {list-style: none; margin:0; padding: 0}\n",
              ".list-inline>li {display: inline-block}\n",
              ".list-inline>li:not(:last-child)::after {content: \"\\00b7\"; padding: 0 .5ex}\n",
              "</style>\n",
              "<ol class=list-inline><li>'dir1'</li><li>'mytest2.R'</li><li>'mytest3.R'</li><li>'myworkplace'</li><li>'sample_data'</li><li>'test2'</li><li>'testdir2'</li></ol>\n"
            ]
          },
          "metadata": {
            "tags": []
          }
        }
      ]
    },
    {
      "cell_type": "code",
      "metadata": {
        "colab": {
          "base_uri": "https://localhost:8080/",
          "height": 52
        },
        "id": "vEe4eTiLR7ah",
        "outputId": "44a83923-bcc5-4b24-91af-658970286597"
      },
      "source": [
        "setwd('/content/myworkplace/exp1')\r\n",
        "file.access('my_file.txt')\r\n",
        "file.access('my_file1.txt')"
      ],
      "execution_count": 67,
      "outputs": [
        {
          "output_type": "display_data",
          "data": {
            "text/plain": [
              "my_file.txt \n",
              "          0 "
            ],
            "text/latex": "\\textbf{my\\textbackslash{}\\_file.txt:} 0",
            "text/markdown": "**my_file.txt:** 0",
            "text/html": [
              "<strong>my_file.txt:</strong> 0"
            ]
          },
          "metadata": {
            "tags": []
          }
        },
        {
          "output_type": "display_data",
          "data": {
            "text/plain": [
              "my_file1.txt \n",
              "           0 "
            ],
            "text/latex": "\\textbf{my\\textbackslash{}\\_file1.txt:} 0",
            "text/markdown": "**my_file1.txt:** 0",
            "text/html": [
              "<strong>my_file1.txt:</strong> 0"
            ]
          },
          "metadata": {
            "tags": []
          }
        }
      ]
    }
  ]
}